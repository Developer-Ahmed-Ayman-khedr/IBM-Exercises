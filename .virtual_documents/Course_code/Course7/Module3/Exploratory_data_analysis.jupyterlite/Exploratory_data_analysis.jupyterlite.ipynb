

















import piplite
await piplite.install('seaborn')





import numpy as np
import pandas as pd
import matplotlib.pyplot as plt
import seaborn as sns
from scipy import stats
%matplotlib inline





from pyodide.http import pyfetch

async def download(url, filename):
    response = await pyfetch(url)
    if response.status == 200:
        with open(filename, "wb") as f:
            f.write(await response.bytes())


filepath="https://cf-courses-data.s3.us.cloud-object-storage.appdomain.cloud/IBMDeveloperSkillsNetwork-DA0101EN-Coursera/laptop_pricing_dataset_mod2.csv"


await download(filepath, "laptops.csv")
file_name="laptops.csv"





df = pd.read_csv(file_name, header=0)





#filepath="https://cf-courses-data.s3.us.cloud-object-storage.appdomain.cloud/IBMDeveloperSkillsNetwork-DA0101EN-Coursera/laptop_pricing_dataset_mod2.csv"
#df = pd.read_csv(filepath, header=None)





df.head(5)





# Write your code below and press Shift+Enter to execute
# CPU_frequency plot






# Write your code below and press Shift+Enter to execute
# Screen_Size_inch plot






# Write your code below and press Shift+Enter to execute
# Weight_pounds plot






# Correlation values of the three attributes with Price












# Write your code below and press Shift+Enter to execute
# Category Box plot






# Write your code below and press Shift+Enter to execute
# GPU Box plot






# Write your code below and press Shift+Enter to execute
# OS Box plot





# Write your code below and press Shift+Enter to execute
# CPU_core Box plot





# Write your code below and press Shift+Enter to execute
# RAM_GB Box plot





# Write your code below and press Shift+Enter to execute
# Storage_GB_SSD Box plot











# Write your code below and press Shift+Enter to execute








# Write your code below and press Shift+Enter to execute
# Create the group





# Write your code below and press Shift+Enter to execute
# Create the Pivot table





# Write your code below and press Shift+Enter to execute
# Create the Plot








# Write your code below and press Shift+Enter to execute





















