

















import pandas as pd
import numpy as np








from pyodide.http import pyfetch

async def download(url, filename):
    response = await pyfetch(url)
    if response.status == 200:
        with open(filename, "wb") as f:
            f.write(await response.bytes())


file_path = "https://cf-courses-data.s3.us.cloud-object-storage.appdomain.cloud/IBMDeveloperSkillsNetwork-DA0101EN-Coursera/laptop_pricing_dataset_base.csv"





await download(file_path, "laptops.csv")
file_name="laptops.csv"


df = pd.read_csv(file_name)





#filepath = "https://cf-courses-data.s3.us.cloud-object-storage.appdomain.cloud/IBMDeveloperSkillsNetwork-DA0101EN-Coursera/laptop_pricing_dataset_base.csv"
#df = pd.read_csv(filepath, header=None)





# Write your code below and press Shift+Enter to execute.
df = pd.read_csv(file_name, header=None)
print(df.head())








# Write your code below and press Shift+Enter to execute.
headers = ["Manufacturer", "Category", "Screen", "GPU", "OS", "CPU_core", "Screen_Size_inch", "CPU_frequency", "RAM_GB", "Storage_GB_SSD", "Weight_kg", "Price"]
df.columns = headers
df.columns








# Write your code below and press Shift+Enter to execute.
df.replace('?', np.NaN, inplace = True)
df.head(10)








# Write your code below and press Shift+Enter to execute.
print(df.dtypes)








# Write your code below and press Shift+Enter to execute.
print(df.describe(include='all'))








# Write your code below and press Shift+Enter to execute.
print(df.info())
























