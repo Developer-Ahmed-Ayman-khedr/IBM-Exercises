




















#install specific version of libraries used in lab
#! mamba install pandas==1.3.3
#! mamba install numpy=1.21.2



import pandas as pd
import matplotlib.pylab as plt








from pyodide.http import pyfetch

async def download(url, filename):
    response = await pyfetch(url)
    if response.status == 200:
        with open(filename, "wb") as f:
            f.write(await response.bytes())





#file_path="https://cf-courses-data.s3.us.cloud-object-storage.appdomain.cloud/IBMDeveloperSkillsNetwork-DA0101EN-SkillsNetwork/labs/Data%20files/auto.csv"





#await download(file_path, "usedcars.csv")
#file_name="usedcars.csv"





#df = pd.read_csv(filename, names = headers)








headers = ["symboling","normalized-losses","make","fuel-type","aspiration", "num-of-doors","body-style",
         "drive-wheels","engine-location","wheel-base", "length","width","height","curb-weight","engine-type",
         "num-of-cylinders", "engine-size","fuel-system","bore","stroke","compression-ratio","horsepower",
         "peak-rpm","city-mpg","highway-mpg","price"]


filepath = "https://cf-courses-data.s3.us.cloud-object-storage.appdomain.cloud/IBMDeveloperSkillsNetwork-DA0101EN-SkillsNetwork/labs/Data%20files/auto.csv"
df = pd.read_csv(filepath)    # Utilize the same header list defined above
df.columns = headers
df.columns





# To see what the data set looks like, we'll use the head() method.
df.head()
df.to_csv("Automobile_Dataset_Before_Cleaning.csv", index=False)








import numpy as np

# replace "?" to NaN
df.replace("?", np.nan, inplace = True)
df.head(5)





missing_data = df.isnull()
missing_data.head(5)








for column in missing_data.columns.values.tolist():
    print(column)
    print (missing_data[column].value_counts())
    print("")    














avg_norm_loss = df["normalized-losses"].astype("float").mean(axis=0)
print("Average of normalized-losses:", avg_norm_loss)





df["normalized-losses"].replace(np.nan, avg_norm_loss, inplace=True)





avg_bore=df['bore'].astype('float').mean(axis=0)
print("Average of bore:", avg_bore)





df["bore"].replace(np.nan, avg_bore, inplace=True)





# Write your code below and press Shift+Enter to execute 
#get the mean of the column stroke
avg_stroke = df['stroke'].astype('float').mean(axis=0)
print("Average of stroke ", avg_stroke)


#replace the NaN values to be the average stroke
df["stroke"].replace(np.nan, avg_stroke, inplace=True)

#display the first 5 rows
df.head(5)








avg_horsepower = df['horsepower'].astype('float').mean(axis=0)
print("Average horsepower:", avg_horsepower)





df['horsepower'].replace(np.nan, avg_horsepower, inplace=True)





avg_peakrpm=df['peak-rpm'].astype('float').mean(axis=0)
print("Average peak rpm:", avg_peakrpm)





#df['peak-rpm'].replace(np.nan, avg_peakrpm, inplace=True)
df.replace({'peak-rpm': avg_peakrpm}, inplace=True)

#display the first 5 rows
df.head(5)





df['num-of-doors'].value_counts()





df['num-of-doors'].value_counts().idxmax()





#replace the missing 'num-of-doors' values by the most frequent 
df["num-of-doors"].replace(np.nan, "four", inplace=True)





# simply drop whole row with NaN in "price" column
df.dropna(subset=["price"], axis=0, inplace=True)

# reset index, because we droped two rows
df.reset_index(drop=True, inplace=True)


df.head()











df.dtypes








df[["bore", "stroke"]] = df[["bore", "stroke"]].astype("float")
df[["normalized-losses"]] = df[["normalized-losses"]].astype("int")
df[["price"]] = df[["price"]].astype("float")
df[["peak-rpm"]] = df[["peak-rpm"]].astype("float")





df.dtypes











df.head()


# Convert mpg to L/100km by mathematical operation (235 divided by mpg)
df['city-L/100km'] = 235/df["city-mpg"]

# check your transformed data 
df.head()





# Write your code below and press Shift+Enter to execute 
# df[new] = operation df[old]
df["highway-L/100km"] = 235/df["highway-mpg"]

# check your transformed data 
df.head(5)








# replace (original value) by (original value)/(maximum value)
df['length'] = df['length']/df['length'].max()
df['width'] = df['width']/df['width'].max()





# Write your code below and press Shift+Enter to execute 
df["height"] = df["height"] / df["height"].max()
df[["length", "width", "height"]].head(5)

















df["horsepower"]=df["horsepower"].astype(int, copy=True)





%matplotlib inline
import matplotlib as plt
from matplotlib import pyplot
plt.pyplot.hist(df["horsepower"])

# set x/y labels and plot title
plt.pyplot.xlabel("horsepower")
plt.pyplot.ylabel("count")
plt.pyplot.title("horsepower bins")








bins = np.linspace(min(df["horsepower"]), max(df["horsepower"]), 4)
bins





group_names = ['Low', 'Medium', 'High']





df['horsepower-binned'] = pd.cut(df['horsepower'], bins, labels=group_names, include_lowest=True )
df[['horsepower','horsepower-binned']].head(20)





df["horsepower-binned"].value_counts()





import matplotlib.pyplot as plt

# Create the bar plot using the DataFrame
plt.bar(group_names, df["horsepower-binned"].value_counts())

# Set x/y labels and plot title
plt.xlabel("Horsepower")
plt.ylabel("Count")
plt.title("Horsepower Bins")

# Show the plot
plt.show()








%matplotlib inline
import matplotlib.pyplot as plt  # Simplified and consistent import

# Draw a histogram of the "horsepower" attribute with 3 bins
plt.hist(df["horsepower"], bins=3)

# Set x/y labels and plot title
plt.xlabel("Horsepower")
plt.ylabel("Count")
plt.title("Horsepower Bins")

# Display the plot
plt.show()








df.columns





dummy_variable_1 = pd.get_dummies(df["fuel-type"])
dummy_variable_1.head()





dummy_variable_1.rename(columns={'gas':'fuel-type-gas', 'diesel':'fuel-type-diesel'}, inplace=True)
dummy_variable_1.head()





# merge data frame "df" and "dummy_variable_1" 
df = pd.concat([df, dummy_variable_1], axis=1)

# drop original column "fuel-type" from "df"
df.drop("fuel-type", axis = 1, inplace=True)


df.head(5)








# Write your code below and press Shift+Enter to execute 

# get indicator variables of aspiration and assign it to data frame "dummy_variable_2"
dummy_variable_2 = pd.get_dummies(df["aspiration"])

# change column names for clarity
dummy_variable_2.rename(columns={"std": "aspiration-std", "turbo": "aspiration-turbo"}, inplace=True)

# show first 5 instances of data frame "dummy_variable_1"
dummy_variable_2.head(5)








# Write your code below and press Shift+Enter to execute 
# merge df and ddummy_variable_2
df = pd.concat([df,dummy_variable_2],axis=1)

# drop the column aspiration
df.drop("aspiration", axis=1, inplace=True)

# show the first five columns
df.head(5)








df.to_csv('clean_df.csv')



