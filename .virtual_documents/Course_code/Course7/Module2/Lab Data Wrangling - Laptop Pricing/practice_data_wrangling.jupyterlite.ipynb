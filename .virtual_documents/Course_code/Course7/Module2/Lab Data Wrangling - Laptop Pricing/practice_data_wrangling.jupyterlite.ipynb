

















import numpy as np
import pandas as pd
import matplotlib.pyplot as plt
%matplotlib inline


























#filepath = "https://cf-courses-data.s3.us.cloud-object-storage.appdomain.cloud/IBMDeveloperSkillsNetwork-DA0101EN-Coursera/laptop_pricing_dataset_mod1.csv"
#df = pd.read_csv(filepath, header=None)





print(df.info())





df.head()





df[['Screen_Size_cm']] = np.round(df[['Screen_Size_cm']],2)
df.head()





# Write your code below and press Shift+Enter to execute 









# Write your code below and press Shift+Enter to execute









# Write your code below and press Shift+Enter to execute








# Write your code below and press Shift+Enter to execute









# Write your code below and press Shift+Enter to execute









# Write your code below and press Shift+Enter to execute









# Write your code below and press Shift+Enter to execute









# Write your code below and press Shift+Enter to execute









# Write your code below and press Shift+Enter to execute












print(df.head())


















