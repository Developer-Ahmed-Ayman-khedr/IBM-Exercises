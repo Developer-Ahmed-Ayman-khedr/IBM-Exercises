

















import numpy as np
import pandas as pd
import matplotlib.pyplot as plt
%matplotlib inline


























filepath = "https://cf-courses-data.s3.us.cloud-object-storage.appdomain.cloud/IBMDeveloperSkillsNetwork-DA0101EN-Coursera/laptop_pricing_dataset_mod1.csv"
df = pd.read_csv(filepath)
df.to_csv("laptop_pricing_Before_Cleaning.csv", index=False)





print(df.info())





df.head(5)





df[['Screen_Size_cm']] = np.round(df[['Screen_Size_cm']],2)
df.head(5)





missing_data = df.isnull()
print(missing_data.head(5))

for column in missing_data.columns.values.tolist():
    print(column)
    print(missing_data[column].value_counts())
    print("")








avg_weight = df['Weight_kg'].astype("float").mean(axis=0)
print("The average mean in Weight_kg", avg_weight_kg)
df['Weight_kg'].replace(np.nan,avg_weight, inplace=True)
df.head(10)








common_screen_size = df['Screen_Size_cm'].value_counts().idxmax()
print("The common screen size:",common_screen_size)
df['Screen_Size_cm'].replace(np.nan,common_screen_size, inplace=True)
df.head(10)








df[['Weight_kg','Screen_Size_cm']] = df[['Weight_kg','Screen_Size_cm']].astype('float')
(df.head(10))








#Screen size
df['Screen_Size_cm'] = df['Screen_Size_cm']/2.54
df.rename(columns={'Screen_Size_cm': 'Screen_Size_inch'}, inplace=True)

#weight 
df['Weight_kg'] = df['Weight_kg']*2.205
df.rename(columns={'Weight_kg': 'Weight_pounds'}, inplace=True)

df.head(10)








df['CPU_frequency'] = df['CPU_frequency']/df['CPU_frequency'].max()
df.head(10)








bins = np.linspace(min(df['Price']),max(df['Price']),4)
group_names = ["Low", "Medium", "High"]
df['Price-binned'] = pd.cut(df['Price'], bins, labels=group_names, include_lowest=True)








# Write your code below and press Shift+Enter to execute
plt.bar(group_names, df["Price-binned"].value_counts())
plt.xlabel("Price")
plt.ylabel("count")
plt.title("Price bins")
plt.show()








dummies = pd.get_dummies(df['Screen'])
dummies.rename(columns={"IPS Panel": "Scren-IPS_panel", "Full HD": "Screen-Full_HD"}, inplace=True)
df  =pd.concat([df,dummies], axis=1)
df.drop("Screen", axis=1, inplace=True)











df.head(10)
df.to_csv("laptop_pricing_After_Cleaning.csv", index=False)


















