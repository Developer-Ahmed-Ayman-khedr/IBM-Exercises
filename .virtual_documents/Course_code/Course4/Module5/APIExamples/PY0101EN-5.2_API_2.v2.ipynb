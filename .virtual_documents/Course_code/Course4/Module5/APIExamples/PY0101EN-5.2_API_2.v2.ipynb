














!pip install randomuser





from randomuser import RandomUser
import pandas as pd





r = RandomUser()





some_list = r.generate_users(10)


some_list





name = r.get_full_name()





for user in some_list:
    print (user.get_full_name()," ",user.get_email())





## Write your code here
for i in some_list:
    








def get_users():
    users =[]
     
    for user in RandomUser.generate_users(10):
        users.append({"Name":user.get_full_name(),"Gender":user.get_gender(),"City":user.get_city(),"State":user.get_state(),"Email":user.get_email(), "DOB":user.get_dob(),"Picture":user.get_picture()})
      
    return pd.DataFrame(users)     


get_users()


df1 = pd.DataFrame(get_users())  








import requests
import json





data = requests.get("https://fruityvice.com/api/fruit/all")





results = json.loads(data.text)





pd.DataFrame(results)





df2 = pd.json_normalize(results)


df2





cherry = df2.loc[df2["name"] == 'Cherry']
(cherry.iloc[0]['family']) , (cherry.iloc[0]['genus'])





# Write your code here









# Write your code here









# Write your code here









# Write your code here













